{
  "nbformat": 4,
  "nbformat_minor": 0,
  "metadata": {
    "colab": {
      "provenance": [],
      "authorship_tag": "ABX9TyMam3YPyOC755uPo5jku58i",
      "include_colab_link": true
    },
    "kernelspec": {
      "name": "python3",
      "display_name": "Python 3"
    },
    "language_info": {
      "name": "python"
    }
  },
  "cells": [
    {
      "cell_type": "markdown",
      "metadata": {
        "id": "view-in-github",
        "colab_type": "text"
      },
      "source": [
        "<a href=\"https://colab.research.google.com/github/Sarita821patil/Projects/blob/main/Sarita_Task_4CodeAlpha.ipynb\" target=\"_parent\"><img src=\"https://colab.research.google.com/assets/colab-badge.svg\" alt=\"Open In Colab\"/></a>"
      ]
    },
    {
      "cell_type": "markdown",
      "source": [
        "# TASK 4"
      ],
      "metadata": {
        "id": "VqxxoWhuSGl5"
      }
    },
    {
      "cell_type": "markdown",
      "source": [
        "# Car Price Prediction with Machine Learning"
      ],
      "metadata": {
        "id": "Q2tzwjs0SJjI"
      }
    },
    {
      "cell_type": "markdown",
      "source": [
        "The price of a car depends on a lot of factors like the goodwill of\n",
        "the brand of the car,\n",
        "features of the car, horsepower and the mileage it gives and\n",
        "many more. Car price\n",
        "prediction is one of the major research areas in machine\n",
        "learning. So if you want to learn\n",
        "how to train a car price prediction model then this project is for you."
      ],
      "metadata": {
        "id": "OiOW5s-ASXvZ"
      }
    },
    {
      "cell_type": "code",
      "source": [
        "# Import necessary libraries\n",
        "import pandas as pd\n",
        "from sklearn.model_selection import train_test_split\n",
        "from sklearn.preprocessing import LabelEncoder, StandardScaler\n",
        "from sklearn.ensemble import RandomForestRegressor\n",
        "from sklearn.metrics import mean_squared_error, r2_score\n",
        "\n",
        "# Load the dataset\n",
        "# Make sure to provide the correct path to the dataset\n",
        "file_path = \"/content/car data.csv\"  # Replace with your file path\n",
        "car_data = pd.read_csv(file_path)\n",
        "\n",
        "# Display the first few rows to understand the data structure\n",
        "print(\"First 5 rows of the dataset:\")\n",
        "print(car_data.head())\n",
        "\n",
        "# Data Preprocessing: Encoding categorical variables\n",
        "# Label encode categorical columns: 'Fuel_Type', 'Selling_type', and 'Transmission'\n",
        "label_encoder = LabelEncoder()\n",
        "car_data['Fuel_Type'] = label_encoder.fit_transform(car_data['Fuel_Type'])\n",
        "car_data['Selling_type'] = label_encoder.fit_transform(car_data['Selling_type'])\n",
        "car_data['Transmission'] = label_encoder.fit_transform(car_data['Transmission'])\n",
        "\n",
        "# Feature Engineering: Creating a new feature 'Car_Age' from 'Year'\n",
        "car_data['Car_Age'] = 2024 - car_data['Year']  # Assuming the current year is 2024\n",
        "# Drop columns that are not useful for model training\n",
        "car_data.drop(['Year', 'Car_Name'], axis=1, inplace=True)\n",
        "\n",
        "# Print the updated dataset structure\n",
        "print(\"\\nUpdated dataset after preprocessing:\")\n",
        "print(car_data.head())\n",
        "\n",
        "# Define features (X) and target variable (y)\n",
        "# X contains all the features except 'Selling_Price' which is the target variable\n",
        "X = car_data.drop('Selling_Price', axis=1)\n",
        "y = car_data['Selling_Price']\n",
        "\n",
        "# Split the data into training and testing sets (80% training, 20% testing)\n",
        "X_train, X_test, y_train, y_test = train_test_split(X, y, test_size=0.2, random_state=42)\n",
        "\n",
        "# Scale the features for better model performance using StandardScaler\n",
        "scaler = StandardScaler()\n",
        "X_train_scaled = scaler.fit_transform(X_train)\n",
        "X_test_scaled = scaler.transform(X_test)\n",
        "\n",
        "# Model Training: Using Random Forest Regressor\n",
        "# Random Forest is a robust algorithm for regression tasks\n",
        "model = RandomForestRegressor(n_estimators=100, random_state=42)\n",
        "model.fit(X_train_scaled, y_train)\n",
        "\n",
        "# Model Evaluation\n",
        "# Predict on the test data\n",
        "y_pred = model.predict(X_test_scaled)\n",
        "\n",
        "# Calculate Mean Squared Error and R-squared Score\n",
        "mse = mean_squared_error(y_test, y_pred)\n",
        "r2 = r2_score(y_test, y_pred)\n",
        "\n",
        "# Print evaluation metrics\n",
        "print(f\"\\nModel Performance Metrics:\")\n",
        "print(f\"Mean Squared Error (MSE): {mse:.2f}\")\n",
        "print(f\"R-squared Score (R²): {r2:.2f}\")\n"
      ],
      "metadata": {
        "colab": {
          "base_uri": "https://localhost:8080/"
        },
        "id": "309UxOzfUZBn",
        "outputId": "533b4eea-e80b-401d-d1d4-cbd029139fca"
      },
      "execution_count": null,
      "outputs": [
        {
          "output_type": "stream",
          "name": "stdout",
          "text": [
            "First 5 rows of the dataset:\n",
            "  Car_Name  Year  Selling_Price  Present_Price  Driven_kms Fuel_Type  \\\n",
            "0     ritz  2014           3.35           5.59       27000    Petrol   \n",
            "1      sx4  2013           4.75           9.54       43000    Diesel   \n",
            "2     ciaz  2017           7.25           9.85        6900    Petrol   \n",
            "3  wagon r  2011           2.85           4.15        5200    Petrol   \n",
            "4    swift  2014           4.60           6.87       42450    Diesel   \n",
            "\n",
            "  Selling_type Transmission  Owner  \n",
            "0       Dealer       Manual      0  \n",
            "1       Dealer       Manual      0  \n",
            "2       Dealer       Manual      0  \n",
            "3       Dealer       Manual      0  \n",
            "4       Dealer       Manual      0  \n",
            "\n",
            "Updated dataset after preprocessing:\n",
            "   Selling_Price  Present_Price  Driven_kms  Fuel_Type  Selling_type  \\\n",
            "0           3.35           5.59       27000          2             0   \n",
            "1           4.75           9.54       43000          1             0   \n",
            "2           7.25           9.85        6900          2             0   \n",
            "3           2.85           4.15        5200          2             0   \n",
            "4           4.60           6.87       42450          1             0   \n",
            "\n",
            "   Transmission  Owner  Car_Age  \n",
            "0             1      0       10  \n",
            "1             1      0       11  \n",
            "2             1      0        7  \n",
            "3             1      0       13  \n",
            "4             1      0       10  \n",
            "\n",
            "Model Performance Metrics:\n",
            "Mean Squared Error (MSE): 0.87\n",
            "R-squared Score (R²): 0.96\n"
          ]
        }
      ]
    }
  ]
}